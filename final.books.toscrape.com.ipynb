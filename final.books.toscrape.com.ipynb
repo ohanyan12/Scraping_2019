{
 "cells": [
  {
   "cell_type": "code",
   "execution_count": null,
   "metadata": {},
   "outputs": [],
   "source": [
    "import requests\n",
    "import time\n",
    "!pip install scrapy\n",
    "from scrapy.http import TextResponse\n",
    "import math\n",
    "import numpy as np\n",
    "import re\n",
    "import pandas as pd"
   ]
  },
  {
   "cell_type": "code",
   "execution_count": null,
   "metadata": {},
   "outputs": [],
   "source": [
    "book = requests.get(\"http://books.toscrape.com/\")"
   ]
  },
  {
   "cell_type": "code",
   "execution_count": null,
   "metadata": {},
   "outputs": [],
   "source": [
    "book.url\n",
    "book.status_code"
   ]
  },
  {
   "cell_type": "code",
   "execution_count": null,
   "metadata": {},
   "outputs": [],
   "source": [
    "book = TextResponse(url = book.url, body = book.text, encoding = \"utf-8\")"
   ]
  },
  {
   "cell_type": "code",
   "execution_count": null,
   "metadata": {},
   "outputs": [],
   "source": [
    "all_urls = [\"http://books.toscrape.com/catalogue/page-{}.html\".format(i) for i in range(1,51)]"
   ]
  },
  {
   "cell_type": "code",
   "execution_count": null,
   "metadata": {},
   "outputs": [],
   "source": [
    "print(all_urls)"
   ]
  },
  {
   "cell_type": "code",
   "execution_count": null,
   "metadata": {},
   "outputs": [],
   "source": [
    "#names of the book,xpath method\n",
    "book.xpath('//*[@id=\"default\"]/div/div/div/div/section/div[2]/ol//article/h3/a/@title').extract()"
   ]
  },
  {
   "cell_type": "code",
   "execution_count": null,
   "metadata": {},
   "outputs": [],
   "source": [
    "def book_name(url):\n",
    "    page = requests.get(url)\n",
    "    book = TextResponse(url=page.url, body=page.text, encoding = \"utf-8\")\n",
    "    book_names = book.xpath('//*[@id=\"default\"]/div/div/div/div/section/div[2]/ol//article/h3/a/@title').extract()\n",
    "    return book_names"
   ]
  },
  {
   "cell_type": "code",
   "execution_count": null,
   "metadata": {},
   "outputs": [],
   "source": [
    "all_book_names = []\n",
    "i=1\n",
    "while True:\n",
    "    url=\"http://books.toscrape.com/catalogue/page-{}.html\".format(i)\n",
    "    current_book_names = book_name(url)\n",
    "    if len(current_book_names)==0:\n",
    "        break\n",
    "    else:\n",
    "        all_book_names.extend(current_book_names)\n",
    "        i=i+1\n",
    "        time.sleep(2)"
   ]
  },
  {
   "cell_type": "code",
   "execution_count": null,
   "metadata": {},
   "outputs": [],
   "source": [
    "print(all_book_names)"
   ]
  },
  {
   "cell_type": "code",
   "execution_count": null,
   "metadata": {},
   "outputs": [],
   "source": [
    "#names of the books, css method\n",
    "book.css('h3>a::attr(title)').extract()"
   ]
  },
  {
   "cell_type": "code",
   "execution_count": null,
   "metadata": {},
   "outputs": [],
   "source": [
    "len(all_book_names)"
   ]
  },
  {
   "cell_type": "code",
   "execution_count": null,
   "metadata": {},
   "outputs": [],
   "source": [
    "type(all_book_names)"
   ]
  },
  {
   "cell_type": "code",
   "execution_count": null,
   "metadata": {},
   "outputs": [],
   "source": [
    "#prices of the book, xpath method\n",
    "book.xpath('//p[@class=\"price_color\"]/text()').extract()"
   ]
  },
  {
   "cell_type": "code",
   "execution_count": null,
   "metadata": {},
   "outputs": [],
   "source": [
    "#prices of the book, css method\n",
    "book.css('p[class=\"price_color\"]::text').extract()"
   ]
  },
  {
   "cell_type": "code",
   "execution_count": null,
   "metadata": {},
   "outputs": [],
   "source": [
    "def book_prices(url):\n",
    "    book = requests.get(url)#get the page\n",
    "    book = TextResponse(url = book.url, body = book.text, encoding = \"utf-8\") #diferenciate html and text\n",
    "    books = book.css('p[class=\"price_color\"]::text').extract()\n",
    "    return books\n"
   ]
  },
  {
   "cell_type": "code",
   "execution_count": null,
   "metadata": {},
   "outputs": [],
   "source": [
    "all_book_prices = []\n",
    "i=1\n",
    "while True:\n",
    "    url=\"http://books.toscrape.com/catalogue/page-{}.html\".format(i)\n",
    "    current_book_prices = book_prices(url)\n",
    "    if len(current_book_prices)==0:\n",
    "        break\n",
    "    else:\n",
    "        all_book_prices.extend(current_book_prices)\n",
    "        i=i+1\n",
    "        time.sleep(2)"
   ]
  },
  {
   "cell_type": "code",
   "execution_count": null,
   "metadata": {},
   "outputs": [],
   "source": [
    "print(all_book_prices)"
   ]
  },
  {
   "cell_type": "code",
   "execution_count": null,
   "metadata": {},
   "outputs": [],
   "source": [
    "type(all_book_prices)"
   ]
  },
  {
   "cell_type": "code",
   "execution_count": null,
   "metadata": {},
   "outputs": [],
   "source": [
    "all_book_prices1=[]\n",
    "for i in all_book_prices:\n",
    "    if i[0]==\"Â\":\n",
    "        all_book_prices1.append(i.replace(\"£\",\"\")[1:])                  "
   ]
  },
  {
   "cell_type": "code",
   "execution_count": null,
   "metadata": {},
   "outputs": [],
   "source": [
    "type(all_book_prices1)"
   ]
  },
  {
   "cell_type": "code",
   "execution_count": null,
   "metadata": {},
   "outputs": [],
   "source": [
    "all_book_prices1"
   ]
  },
  {
   "cell_type": "code",
   "execution_count": null,
   "metadata": {},
   "outputs": [],
   "source": [
    "#ratings of books, xpath method\n",
    "book.xpath('//*[@id=\"default\"]/div/div/div//section/div[2]/ol//article/p/@class').extract()"
   ]
  },
  {
   "cell_type": "code",
   "execution_count": null,
   "metadata": {},
   "outputs": [],
   "source": [
    "#ratings of books, css method\n",
    "book.css(\"div[class='image_container']+p::attr(class)\").extract()"
   ]
  },
  {
   "cell_type": "code",
   "execution_count": null,
   "metadata": {},
   "outputs": [],
   "source": [
    "def book_ratings(url):\n",
    "    book = requests.get(url)#get the page\n",
    "    book = TextResponse(url = book.url, body = book.text, encoding = \"utf-8\") #diferenciate html and text\n",
    "    books = book.css(\"div[class='image_container']+p::attr(class)\").extract()\n",
    "    return books"
   ]
  },
  {
   "cell_type": "code",
   "execution_count": null,
   "metadata": {},
   "outputs": [],
   "source": [
    "all_book_ratings = []\n",
    "i=1\n",
    "while True:\n",
    "    url=\"http://books.toscrape.com/catalogue/page-{}.html\".format(i)\n",
    "    current_book_ratings = book_ratings(url)\n",
    "    if len(current_book_ratings)==0:\n",
    "        break\n",
    "    else:\n",
    "        all_book_ratings.extend(current_book_ratings)\n",
    "        i=i+1\n",
    "        time.sleep(2)"
   ]
  },
  {
   "cell_type": "code",
   "execution_count": null,
   "metadata": {},
   "outputs": [],
   "source": [
    "print(all_book_ratings)"
   ]
  },
  {
   "cell_type": "code",
   "execution_count": null,
   "metadata": {},
   "outputs": [],
   "source": [
    "len(all_book_ratings)"
   ]
  },
  {
   "cell_type": "code",
   "execution_count": null,
   "metadata": {},
   "outputs": [],
   "source": [
    "type(all_book_ratings)"
   ]
  },
  {
   "cell_type": "code",
   "execution_count": null,
   "metadata": {},
   "outputs": [],
   "source": [
    "book_table = pd.DataFrame({'name': all_book_names, 'price': all_book_prices1, 'rating': all_book_ratings})\n",
    "book_table.head()"
   ]
  },
  {
   "cell_type": "code",
   "execution_count": null,
   "metadata": {},
   "outputs": [],
   "source": [
    "all_book_ratings.count('star-rating One') #so the most popular is star-rating One"
   ]
  },
  {
   "cell_type": "code",
   "execution_count": null,
   "metadata": {},
   "outputs": [],
   "source": [
    "all_book_ratings.count('star-rating Two')"
   ]
  },
  {
   "cell_type": "code",
   "execution_count": null,
   "metadata": {},
   "outputs": [],
   "source": [
    "all_book_ratings.count('star-rating Three')"
   ]
  },
  {
   "cell_type": "code",
   "execution_count": null,
   "metadata": {},
   "outputs": [],
   "source": [
    "all_book_ratings.count('star-rating Four')"
   ]
  },
  {
   "cell_type": "code",
   "execution_count": null,
   "metadata": {},
   "outputs": [],
   "source": [
    "all_book_ratings.count('star-rating Five')"
   ]
  },
  {
   "cell_type": "code",
   "execution_count": null,
   "metadata": {},
   "outputs": [],
   "source": [
    "popular_star = book_table[book_table.rating==\"star-rating One\"]"
   ]
  },
  {
   "cell_type": "code",
   "execution_count": null,
   "metadata": {},
   "outputs": [],
   "source": [
    "popular_star.head()"
   ]
  },
  {
   "cell_type": "code",
   "execution_count": null,
   "metadata": {},
   "outputs": [],
   "source": [
    "type(popular_star)"
   ]
  },
  {
   "cell_type": "code",
   "execution_count": null,
   "metadata": {},
   "outputs": [],
   "source": [
    "np_on_star_price = np.asarray(popular_star[\"price\"])"
   ]
  },
  {
   "cell_type": "code",
   "execution_count": null,
   "metadata": {},
   "outputs": [],
   "source": [
    "np_on_star_price = np_on_star_price.astype(float)"
   ]
  },
  {
   "cell_type": "code",
   "execution_count": null,
   "metadata": {},
   "outputs": [],
   "source": [
    "#HW 2, part 1.2\n",
    "np.mean(np_on_star_price)"
   ]
  },
  {
   "cell_type": "code",
   "execution_count": null,
   "metadata": {},
   "outputs": [],
   "source": [
    "book.css(\"h3>a::attr(href)\").extract()"
   ]
  },
  {
   "cell_type": "code",
   "execution_count": null,
   "metadata": {},
   "outputs": [],
   "source": [
    "def book_url(url):\n",
    "    book = requests.get(url)\n",
    "    book = TextResponse(url = book.url, body = book.text, encoding = \"utf-8\")\n",
    "    url=book.css(\"h3>a::attr(href)\").extract()\n",
    "    return url"
   ]
  },
  {
   "cell_type": "code",
   "execution_count": null,
   "metadata": {},
   "outputs": [],
   "source": [
    "all_book_urls = []\n",
    "i=1\n",
    "while True:\n",
    "    url=\"http://books.toscrape.com/catalogue/page-{}.html\".format(i)\n",
    "    current_book_urls = book_url(url)\n",
    "    if len(current_book_urls)==0:\n",
    "        break\n",
    "    else:\n",
    "        all_book_urls.extend(current_book_urls)\n",
    "        i=i+1\n",
    "        time.sleep(2)"
   ]
  },
  {
   "cell_type": "code",
   "execution_count": null,
   "metadata": {},
   "outputs": [],
   "source": [
    "print(all_book_urls)"
   ]
  },
  {
   "cell_type": "code",
   "execution_count": null,
   "metadata": {},
   "outputs": [],
   "source": [
    "def book_description(url):\n",
    "    book = requests.get(url)\n",
    "    book = TextResponse(url = book.url, body = book.text, encoding = \"utf-8\")\n",
    "    description= book.css('div[class=\"sub-header\"]+p::text').extract()\n",
    "    return description"
   ]
  },
  {
   "cell_type": "code",
   "execution_count": null,
   "metadata": {},
   "outputs": [],
   "source": [
    "book.css('div[class=\"sub-header\"]+p::text').extract()"
   ]
  },
  {
   "cell_type": "code",
   "execution_count": null,
   "metadata": {},
   "outputs": [],
   "source": [
    "all_descriptions=[]\n",
    "for url in all_book_urls:\n",
    "    all_descriptions.extend(book_description('http://books.toscrape.com/catalogue/'+url))\n",
    "    print(all_descriptions)"
   ]
  },
  {
   "cell_type": "code",
   "execution_count": null,
   "metadata": {},
   "outputs": [],
   "source": [
    "#HW part 2.1\n",
    "type(all_book_names)\n"
   ]
  },
  {
   "cell_type": "code",
   "execution_count": null,
   "metadata": {},
   "outputs": [],
   "source": [
    "all_book_names_str = str(all_book_names)"
   ]
  },
  {
   "cell_type": "code",
   "execution_count": null,
   "metadata": {},
   "outputs": [],
   "source": [
    "len(re.findall(\"\\d\",all_book_names_str))"
   ]
  },
  {
   "cell_type": "code",
   "execution_count": null,
   "metadata": {},
   "outputs": [],
   "source": [
    "re.findall(\"\\d...\",all_book_names_str) #I know that this is not the right code but it is very close to solution))"
   ]
  },
  {
   "cell_type": "code",
   "execution_count": null,
   "metadata": {},
   "outputs": [],
   "source": [
    "len(re.findall(\"\\d...\",all_book_names_str))"
   ]
  },
  {
   "cell_type": "code",
   "execution_count": null,
   "metadata": {},
   "outputs": [],
   "source": [
    "len(re.findall(\"\\d\\d\\d\\d\",all_book_names_str))"
   ]
  },
  {
   "cell_type": "code",
   "execution_count": null,
   "metadata": {},
   "outputs": [],
   "source": [
    "len(re.findall(\"#\\d\",all_book_names_str))"
   ]
  },
  {
   "cell_type": "code",
   "execution_count": null,
   "metadata": {},
   "outputs": [],
   "source": []
  },
  {
   "cell_type": "code",
   "execution_count": null,
   "metadata": {},
   "outputs": [],
   "source": []
  }
 ],
 "metadata": {
  "kernelspec": {
   "display_name": "Python 3",
   "language": "python",
   "name": "python3"
  },
  "language_info": {
   "codemirror_mode": {
    "name": "ipython",
    "version": 3
   },
   "file_extension": ".py",
   "mimetype": "text/x-python",
   "name": "python",
   "nbconvert_exporter": "python",
   "pygments_lexer": "ipython3",
   "version": "3.7.3"
  }
 },
 "nbformat": 4,
 "nbformat_minor": 2
}
