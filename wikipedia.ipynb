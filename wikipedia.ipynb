{
 "cells": [
  {
   "cell_type": "code",
   "execution_count": 203,
   "metadata": {},
   "outputs": [],
   "source": [
    "import quandl\n",
    "import googlemaps\n",
    "import dbnomics\n",
    "import pageviewapi\n",
    "import collections\n",
    "from collections import Counter \n",
    "import wikipedia\n",
    "import nltk\n",
    "from nltk.tokenize import word_tokenize\n",
    "from nltk.tokenize import sent_tokenize\n",
    "import utils\n",
    "from sklearn.naive_bayes import MultinomialNB \n",
    "from sklearn.preprocessing import LabelEncoder\n",
    "import quandl\n",
    "import googlemaps\n",
    "import dbnomics\n",
    "import pageviewapi\n",
    "import lyricsgenius\n",
    "import os\n",
    "import json\n",
    "import lyricsgenius\n",
    "import pandas as pd\n",
    "from textblob import TextBlob, Word\n",
    "from nltk.corpus import stopwords"
   ]
  },
  {
   "cell_type": "markdown",
   "metadata": {},
   "source": [
    "# Q1"
   ]
  },
  {
   "cell_type": "code",
   "execution_count": 163,
   "metadata": {},
   "outputs": [],
   "source": [
    "Singers = [\"Pink Floyd\", \"Michael Jackson\", \"Lara Fabian\"]\n",
    "genius = lyricsgenius.Genius(\"lkPGpheooF_UEqyLy_-unokXIYMIj_3ar_7Y5qUXapwPmPoV5XahbSHStqEF23l7\")\n"
   ]
  },
  {
   "cell_type": "code",
   "execution_count": 164,
   "metadata": {},
   "outputs": [
    {
     "name": "stdout",
     "output_type": "stream",
     "text": [
      "Searching for songs by Pink Floyd...\n",
      "\n",
      "Song 1: \"Wish You Were Here\"\n",
      "Song 2: \"Time\"\n",
      "Song 3: \"Comfortably Numb\"\n",
      "Song 4: \"Another Brick in the Wall, Pt. 2\"\n",
      "Song 5: \"Money\"\n",
      "\n",
      "Reached user-specified song limit (5).\n",
      "Done. Found 5 songs.\n",
      "Searching for songs by Michael Jackson...\n",
      "\n",
      "Song 1: \"Billie Jean\"\n",
      "Song 2: \"Smooth Criminal\"\n",
      "Song 3: \"They Don’t Care About Us\"\n",
      "Song 4: \"Man in the Mirror\"\n",
      "Song 5: \"Wanna Be Startin’ Somethin’\"\n",
      "\n",
      "Reached user-specified song limit (5).\n",
      "Done. Found 5 songs.\n",
      "Searching for songs by Lara Fabian...\n",
      "\n",
      "Song 1: \"Choose What You Love Most (Let It Kill You)\"\n",
      "Song 2: \"Je t’aime\"\n",
      "Song 3: \"Je suis malade\"\n",
      "Song 4: \"Growing Wings\"\n",
      "Song 5: \"Mademoiselle Hyde\"\n",
      "\n",
      "Reached user-specified song limit (5).\n",
      "Done. Found 5 songs.\n"
     ]
    }
   ],
   "source": [
    "popular_songs = [] \n",
    "for i in Singers:\n",
    "    artist = genius.search_artist(i, max_songs=5, sort=\"popularity\")\n",
    "    popular_songs.append(artist.songs)"
   ]
  },
  {
   "cell_type": "code",
   "execution_count": 165,
   "metadata": {},
   "outputs": [
    {
     "data": {
      "text/plain": [
       "[[('Wish You Were Here', 'Pink Floyd'),\n",
       "  ('Time', 'Pink Floyd'),\n",
       "  ('Comfortably Numb', 'Pink Floyd'),\n",
       "  ('Another Brick in the Wall, Pt. 2', 'Pink Floyd'),\n",
       "  ('Money', 'Pink Floyd')],\n",
       " [('Billie Jean', 'Michael Jackson'),\n",
       "  ('Smooth Criminal', 'Michael Jackson'),\n",
       "  ('They Don’t Care About Us', 'Michael Jackson'),\n",
       "  ('Man in the Mirror', 'Michael Jackson'),\n",
       "  ('Wanna Be Startin’ Somethin’', 'Michael Jackson')],\n",
       " [('Choose What You Love Most (Let It Kill You)', 'Lara Fabian'),\n",
       "  ('Je t’aime', 'Lara Fabian'),\n",
       "  ('Je suis malade', 'Lara Fabian'),\n",
       "  ('Growing Wings', 'Lara Fabian'),\n",
       "  ('Mademoiselle Hyde', 'Lara Fabian')]]"
      ]
     },
     "execution_count": 165,
     "metadata": {},
     "output_type": "execute_result"
    }
   ],
   "source": [
    "popular_songs"
   ]
  },
  {
   "cell_type": "code",
   "execution_count": 166,
   "metadata": {},
   "outputs": [],
   "source": [
    "artists = [popular_songs[i][j].artist for i in range(3) for j in range(5)] "
   ]
  },
  {
   "cell_type": "code",
   "execution_count": 167,
   "metadata": {},
   "outputs": [],
   "source": [
    "titles = [popular_songs[i][j].title for i in range(3) for j in range(5)] "
   ]
  },
  {
   "cell_type": "code",
   "execution_count": 168,
   "metadata": {},
   "outputs": [],
   "source": [
    "lyrics = [popular_songs[i][j].lyrics for i in range(3) for j in range(5)]"
   ]
  },
  {
   "cell_type": "code",
   "execution_count": 169,
   "metadata": {},
   "outputs": [],
   "source": [
    "years = [popular_songs[i][j].year for i in range(3) for j in range(5)] "
   ]
  },
  {
   "cell_type": "code",
   "execution_count": 170,
   "metadata": {},
   "outputs": [],
   "source": [
    "def get_sent(text): #sentiment \n",
    "    sentiment=TextBlob(text).sentiment[0]\n",
    "    return sentiment"
   ]
  },
  {
   "cell_type": "code",
   "execution_count": 171,
   "metadata": {},
   "outputs": [],
   "source": [
    "sentimentality = [get_sent(lyrics[i]) for i in range(len(lyrics))]"
   ]
  },
  {
   "cell_type": "code",
   "execution_count": 172,
   "metadata": {},
   "outputs": [],
   "source": [
    "dict = {\"Artist\":artists, \"Song\":titles, \"Lyrics\":lyrics, \"Year\":years, \"Sentiment_Score\":sentimentality} "
   ]
  },
  {
   "cell_type": "code",
   "execution_count": 173,
   "metadata": {},
   "outputs": [],
   "source": [
    "dataframe = pd.DataFrame(dict)"
   ]
  },
  {
   "cell_type": "code",
   "execution_count": 174,
   "metadata": {},
   "outputs": [
    {
     "data": {
      "text/html": [
       "<div>\n",
       "<style scoped>\n",
       "    .dataframe tbody tr th:only-of-type {\n",
       "        vertical-align: middle;\n",
       "    }\n",
       "\n",
       "    .dataframe tbody tr th {\n",
       "        vertical-align: top;\n",
       "    }\n",
       "\n",
       "    .dataframe thead th {\n",
       "        text-align: right;\n",
       "    }\n",
       "</style>\n",
       "<table border=\"1\" class=\"dataframe\">\n",
       "  <thead>\n",
       "    <tr style=\"text-align: right;\">\n",
       "      <th></th>\n",
       "      <th>Artist</th>\n",
       "      <th>Song</th>\n",
       "      <th>Lyrics</th>\n",
       "      <th>Year</th>\n",
       "      <th>Sentiment_Score</th>\n",
       "    </tr>\n",
       "  </thead>\n",
       "  <tbody>\n",
       "    <tr>\n",
       "      <th>0</th>\n",
       "      <td>Pink Floyd</td>\n",
       "      <td>Wish You Were Here</td>\n",
       "      <td>[Spoken Intro]\\n— And disciplinary remains mer...</td>\n",
       "      <td>1975-09-12</td>\n",
       "      <td>0.034615</td>\n",
       "    </tr>\n",
       "    <tr>\n",
       "      <th>1</th>\n",
       "      <td>Pink Floyd</td>\n",
       "      <td>Time</td>\n",
       "      <td>[Intro]\\n\\n[Verse 1: David Gilmour]\\nTicking a...</td>\n",
       "      <td>1973-03-01</td>\n",
       "      <td>-0.006159</td>\n",
       "    </tr>\n",
       "    <tr>\n",
       "      <th>2</th>\n",
       "      <td>Pink Floyd</td>\n",
       "      <td>Comfortably Numb</td>\n",
       "      <td>[Intro]\\n\\n[Verse 1: Roger Waters]\\nHello? (He...</td>\n",
       "      <td>1979-11-30</td>\n",
       "      <td>-0.031965</td>\n",
       "    </tr>\n",
       "    <tr>\n",
       "      <th>3</th>\n",
       "      <td>Pink Floyd</td>\n",
       "      <td>Another Brick in the Wall, Pt. 2</td>\n",
       "      <td>[Verse 1: Roger Waters &amp; David Gilmour]\\nWe do...</td>\n",
       "      <td>1979-11-23</td>\n",
       "      <td>-0.437760</td>\n",
       "    </tr>\n",
       "    <tr>\n",
       "      <th>4</th>\n",
       "      <td>Pink Floyd</td>\n",
       "      <td>Money</td>\n",
       "      <td>[Intro]\\n\\n[Verse 1: David Gilmour]\\nMoney, ge...</td>\n",
       "      <td>1973-03-01</td>\n",
       "      <td>0.168105</td>\n",
       "    </tr>\n",
       "    <tr>\n",
       "      <th>5</th>\n",
       "      <td>Michael Jackson</td>\n",
       "      <td>Billie Jean</td>\n",
       "      <td>[Verse 1]\\nShe was more like a beauty queen fr...</td>\n",
       "      <td>1982-11-30</td>\n",
       "      <td>0.059442</td>\n",
       "    </tr>\n",
       "    <tr>\n",
       "      <th>6</th>\n",
       "      <td>Michael Jackson</td>\n",
       "      <td>Smooth Criminal</td>\n",
       "      <td>[Verse 1]\\nAs he came into the window\\nWas a s...</td>\n",
       "      <td>1988-10-21</td>\n",
       "      <td>0.342834</td>\n",
       "    </tr>\n",
       "    <tr>\n",
       "      <th>7</th>\n",
       "      <td>Michael Jackson</td>\n",
       "      <td>They Don’t Care About Us</td>\n",
       "      <td>[Intro]\\nAll I want to say is that they don’t ...</td>\n",
       "      <td>1995-06-16</td>\n",
       "      <td>-0.093700</td>\n",
       "    </tr>\n",
       "    <tr>\n",
       "      <th>8</th>\n",
       "      <td>Michael Jackson</td>\n",
       "      <td>Man in the Mirror</td>\n",
       "      <td>[Verse 1]\\nI'm gonna make a change\\nFor once i...</td>\n",
       "      <td>1988-01-16</td>\n",
       "      <td>0.158620</td>\n",
       "    </tr>\n",
       "    <tr>\n",
       "      <th>9</th>\n",
       "      <td>Michael Jackson</td>\n",
       "      <td>Wanna Be Startin’ Somethin’</td>\n",
       "      <td>[Chorus]\\nI said you want to be starting somet...</td>\n",
       "      <td>1982-11-30</td>\n",
       "      <td>-0.026286</td>\n",
       "    </tr>\n",
       "    <tr>\n",
       "      <th>10</th>\n",
       "      <td>Lara Fabian</td>\n",
       "      <td>Choose What You Love Most (Let It Kill You)</td>\n",
       "      <td>[Verse 1]\\nWas in a place where I wished for t...</td>\n",
       "      <td>2017-09-08</td>\n",
       "      <td>0.278947</td>\n",
       "    </tr>\n",
       "    <tr>\n",
       "      <th>11</th>\n",
       "      <td>Lara Fabian</td>\n",
       "      <td>Je t’aime</td>\n",
       "      <td>Intéressé(e) par l'explication des paroles de ...</td>\n",
       "      <td>None</td>\n",
       "      <td>0.000000</td>\n",
       "    </tr>\n",
       "    <tr>\n",
       "      <th>12</th>\n",
       "      <td>Lara Fabian</td>\n",
       "      <td>Je suis malade</td>\n",
       "      <td>Je ne rêve plus, je ne fume plus\\nJe n'ai meme...</td>\n",
       "      <td>None</td>\n",
       "      <td>-0.800000</td>\n",
       "    </tr>\n",
       "    <tr>\n",
       "      <th>13</th>\n",
       "      <td>Lara Fabian</td>\n",
       "      <td>Growing Wings</td>\n",
       "      <td>[Verse 1]\\nHave you ever faced an ocean\\nThoug...</td>\n",
       "      <td>2017-08-04</td>\n",
       "      <td>-0.182716</td>\n",
       "    </tr>\n",
       "    <tr>\n",
       "      <th>14</th>\n",
       "      <td>Lara Fabian</td>\n",
       "      <td>Mademoiselle Hyde</td>\n",
       "      <td>Share my thoughts if you will and guide me thr...</td>\n",
       "      <td>None</td>\n",
       "      <td>-0.067749</td>\n",
       "    </tr>\n",
       "  </tbody>\n",
       "</table>\n",
       "</div>"
      ],
      "text/plain": [
       "             Artist                                         Song  \\\n",
       "0        Pink Floyd                           Wish You Were Here   \n",
       "1        Pink Floyd                                         Time   \n",
       "2        Pink Floyd                             Comfortably Numb   \n",
       "3        Pink Floyd             Another Brick in the Wall, Pt. 2   \n",
       "4        Pink Floyd                                        Money   \n",
       "5   Michael Jackson                                  Billie Jean   \n",
       "6   Michael Jackson                              Smooth Criminal   \n",
       "7   Michael Jackson                     They Don’t Care About Us   \n",
       "8   Michael Jackson                            Man in the Mirror   \n",
       "9   Michael Jackson                  Wanna Be Startin’ Somethin’   \n",
       "10      Lara Fabian  Choose What You Love Most (Let It Kill You)   \n",
       "11      Lara Fabian                                    Je t’aime   \n",
       "12      Lara Fabian                               Je suis malade   \n",
       "13      Lara Fabian                                Growing Wings   \n",
       "14      Lara Fabian                            Mademoiselle Hyde   \n",
       "\n",
       "                                               Lyrics        Year  \\\n",
       "0   [Spoken Intro]\\n— And disciplinary remains mer...  1975-09-12   \n",
       "1   [Intro]\\n\\n[Verse 1: David Gilmour]\\nTicking a...  1973-03-01   \n",
       "2   [Intro]\\n\\n[Verse 1: Roger Waters]\\nHello? (He...  1979-11-30   \n",
       "3   [Verse 1: Roger Waters & David Gilmour]\\nWe do...  1979-11-23   \n",
       "4   [Intro]\\n\\n[Verse 1: David Gilmour]\\nMoney, ge...  1973-03-01   \n",
       "5   [Verse 1]\\nShe was more like a beauty queen fr...  1982-11-30   \n",
       "6   [Verse 1]\\nAs he came into the window\\nWas a s...  1988-10-21   \n",
       "7   [Intro]\\nAll I want to say is that they don’t ...  1995-06-16   \n",
       "8   [Verse 1]\\nI'm gonna make a change\\nFor once i...  1988-01-16   \n",
       "9   [Chorus]\\nI said you want to be starting somet...  1982-11-30   \n",
       "10  [Verse 1]\\nWas in a place where I wished for t...  2017-09-08   \n",
       "11  Intéressé(e) par l'explication des paroles de ...        None   \n",
       "12  Je ne rêve plus, je ne fume plus\\nJe n'ai meme...        None   \n",
       "13  [Verse 1]\\nHave you ever faced an ocean\\nThoug...  2017-08-04   \n",
       "14  Share my thoughts if you will and guide me thr...        None   \n",
       "\n",
       "    Sentiment_Score  \n",
       "0          0.034615  \n",
       "1         -0.006159  \n",
       "2         -0.031965  \n",
       "3         -0.437760  \n",
       "4          0.168105  \n",
       "5          0.059442  \n",
       "6          0.342834  \n",
       "7         -0.093700  \n",
       "8          0.158620  \n",
       "9         -0.026286  \n",
       "10         0.278947  \n",
       "11         0.000000  \n",
       "12        -0.800000  \n",
       "13        -0.182716  \n",
       "14        -0.067749  "
      ]
     },
     "execution_count": 174,
     "metadata": {},
     "output_type": "execute_result"
    }
   ],
   "source": [
    "dataframe"
   ]
  },
  {
   "cell_type": "code",
   "execution_count": 175,
   "metadata": {},
   "outputs": [],
   "source": [
    "#The most positive song is Smooth Criminal by Michael Jackson\n",
    "#The most negative song is Je suis malade by Lara Fabian"
   ]
  },
  {
   "cell_type": "markdown",
   "metadata": {},
   "source": [
    "# Q2"
   ]
  },
  {
   "cell_type": "code",
   "execution_count": 176,
   "metadata": {},
   "outputs": [],
   "source": [
    "wikipedia.set_lang(\"ru\")"
   ]
  },
  {
   "cell_type": "code",
   "execution_count": 177,
   "metadata": {},
   "outputs": [
    {
     "name": "stdout",
     "output_type": "stream",
     "text": [
      "«Википе́дия» (англ. Wikipedia, произносится [ˌwɪkɨˈpiːdiə] или [ˌwɪkiˈpiːdiə]) — общедоступная многоязычная универсальная интернет-энциклопедия со свободным контентом, реализованная на принципах вики. Расположена по адресу www.wikipedia.org.\n",
      "Владелец сайта — американская некоммерческая организация «Фонд Викимедиа», имеющая 37 региональных представительств. Название энциклопедии образовано от английских слов wiki («вики»; в свою очередь заимствовано из гавайского языка, в котором оно имеет значение «быстро») и encyclopedia («энциклопедия»).\n",
      "Запущенная в январе 2001 года Джимми Уэйлсом и Ларри Сэнгером, Википедия сейчас является самым крупным и наиболее популярным справочником в Интернете. По объёму сведений и тематическому охвату Википедия считается самой полной энциклопедией из когда-либо создававшихся за всю историю человечества. В 2015 году число зарегистрированных участников русской Википедии превысило 1,7 млн. Одним из основных достоинств Википедии как универсальной энциклопедии является возможность представления информации на родном языке пользователя.\n",
      "На май 2018 года разделы Википедии есть на 301 языке, а также на 493 языках в инкубаторе. Она содержит более 40 миллионов статей. Интернет-сайт Википедии является пятым по посещаемости сайтом в мире.\n",
      "Главной особенностью Википедии является то, что создавать и редактировать статьи в ней может любой пользователь Интернета. Все вносимые такими добровольцами изменения незамедлительно становятся доступными для просмотра всем посетителям сайта. В декабре 2013 года в заявлении ЮНЕСКО по случаю награждения Джимми Уэйлса, основателя Википедии, Золотой медалью Нильса Бора про Википедию было сказано, что она является «символом эпохи взаимодействия, в которую мы живём, и это не просто инструмент, это воплощение мечты, столь же древней, как человеческий интеллект и собрания Александрийской библиотеки».\n",
      "Надёжность и точность Википедии вызывают вопросы. Википедию критикуют за возможность добавления ложной или непроверенной информации и вандализма на её страницах. Однако научные исследования свидетельствуют о том, что в Википедии следы актов вандализма обычно оперативно устраняются.\n",
      "Раздел Википедии на русском языке на 21 июня 2018 года занимает 7-е место по количеству статей среди всех языковых разделов.\n"
     ]
    }
   ],
   "source": [
    "print(wikipedia.summary(\"Wikipedia\"))"
   ]
  },
  {
   "cell_type": "code",
   "execution_count": 178,
   "metadata": {},
   "outputs": [],
   "source": [
    "Pink_summery = wikipedia.summary(\"Pink Floyd\")"
   ]
  },
  {
   "cell_type": "code",
   "execution_count": 179,
   "metadata": {},
   "outputs": [
    {
     "data": {
      "text/plain": [
       "'Pink Floyd (рус. Пинк Флойд) — британская рок-группа, знаменитая своими философскими текстами, акустическими экспериментами, новшествами в оформлении альбомов и грандиозными шоу. Является одной из наиболее влиятельных и успешных групп в рок-музыке — 74,5 млн проданных альбомов в США (седьмое место), в мире же было продано около 300 млн (не считая сольных работ).\\nГруппа была основана в 1965 году однокурсниками по архитектурному факультету лондонского политехнического института (Regent Str. Polytechnic) Ричардом Райтом (клавишные, вокал), Роджером Уотерсом (бас-гитара, вокал), Ником Мейсоном (ударные) и их кембриджским другом Сидом Барреттом (вокал, гитара). Первоначальное название — «The Pink Floyd Sound», в 1966 году последнее слово из названия было отброшено. Лидером группы и автором большинства песен в то время являлся Сид Барретт. В начале 1967 года группа выпустила свои первые синглы, а в августе того же года — свой первый студийный альбом The Piper at the Gates of Dawn, ставший классикой психоделического рока.\\nВ 1968 году к четвёрке присоединился гитарист Дэвид Гилмор и заменил Барретта, который страдал от наркотической зависимости, из-за чего часто срывал записи и концерты. После ухода Барретта доминирующими фигурами в группе вначале стали бас-гитарист Роджер Уотерс и клавишник Ричард Райт, но со временем Райт уступил позиции Гилмору. В период 1968—1972 гг. группой были выпущены шесть долгоиграющих альбомов (два из которых содержат музыку к фильмам).\\nВ 1973 году группа выпустила свой самый успешный альбом The Dark Side of the Moon, сразу сделавший её явлением мирового масштаба. За ним последовали альбомы Wish You Were Here (1975) и Animals (1977), ещё больше увеличившие мировую известность группы. В это время автором текстов почти всех песен становится Уотерс. С каждым новым альбомом он закреплял своё лидерство в группе, постепенно придя к единоначалию. Уотерс является автором концепции и автором большинства композиций концептуального альбома группы The Wall (1979). Такое положение дел вызывало недовольство со стороны других участников группы, что повлекло уход из группы Райта. Последней работой группы в составе Гилмор-Мейсон-Уотерс стал альбом The Final Cut, выпущенный в марте 1983 года. После этого группа Pink Floyd прекратила активную работу, а её участники занялись своими сольными проектами и сотрудничеством с другими музыкантами.\\nВ 1986 году, после череды судебных разбирательств, Гилмору удалось возродить Pink Floyd сначала в составе Гилмор-Мейсон, затем к ним присоединился Райт. В 1987 году был выпущен альбом A Momentary Lapse of Reason, автором большинства композиций которого стал Гилмор. После записи альбома группа отправилась в мировое турне, по итогам которого был выпущен двойной концертный альбом Delicate Sound of Thunder. В 1994 году этим же составом был выпущен альбом The Division Bell, за которым последовал концертный тур и новый большой перерыв в творчестве группы. Этот период творчества группы был неоднозначно воспринят как музыкальными критиками, так и поклонниками «классического» Pink Floyd.\\nВ сентябре 2008 года скончался Ричард Райт. В 2014 году вышел последний студийный альбом группы The Endless River, основанный на студийных записях 1993—1994 годов, сделанных при участии Райта. После этого группа Pink Floyd официально прекратила своё существование.'"
      ]
     },
     "execution_count": 179,
     "metadata": {},
     "output_type": "execute_result"
    }
   ],
   "source": [
    "Pink_summery"
   ]
  },
  {
   "cell_type": "code",
   "execution_count": 180,
   "metadata": {},
   "outputs": [
    {
     "data": {
      "text/plain": [
       "str"
      ]
     },
     "execution_count": 180,
     "metadata": {},
     "output_type": "execute_result"
    }
   ],
   "source": [
    "type(Pink_summery)"
   ]
  },
  {
   "cell_type": "code",
   "execution_count": 210,
   "metadata": {},
   "outputs": [],
   "source": [
    "badwords = stopwords.words(\"russian\")"
   ]
  },
  {
   "cell_type": "code",
   "execution_count": 234,
   "metadata": {},
   "outputs": [],
   "source": [
    "badwords = [u'я', u'а', u'да', u'но', u'тебе', u'мне', u'ты', u'и', u'у', u'на', u'ща', u'ага','в','с','В',\n",
    "u'так', u'там', u'какие', u'который', u'какая', u'туда', u'давай', u'короче', u'кажется', u'вообще',\n",
    "u'ну', u'не', u'чет', u'неа', u'свои', u'наше', u'хотя', u'такое', u'например', u'кароч', u'как-то',\n",
    "u'нам', u'хм', u'всем', u'нет', u'да', u'оно', u'своем', u'про', u'вы', u'м', u'тд',\n",
    "u'вся', u'кто-то', u'что-то', u'вам', u'это', u'эта', u'эти', u'этот', u'прям', u'либо', u'как', u'мы',\n",
    "u'просто', u'блин', u'очень', u'самые', u'твоем', u'ваша', u'кстати', u'вроде', u'типа', u'пока', u'ок',',','—','.','к','(',')','«','«','the']"
   ]
  },
  {
   "cell_type": "code",
   "execution_count": 235,
   "metadata": {},
   "outputs": [],
   "source": [
    "words_Pink_summery = nltk.word_tokenize(Pink_summery)"
   ]
  },
  {
   "cell_type": "code",
   "execution_count": 236,
   "metadata": {},
   "outputs": [],
   "source": [
    "Pink_words=[] \n",
    "for word in words_Pink_summery: \n",
    "    if word not in badwords:\n",
    "        Pink_words.append(word)"
   ]
  },
  {
   "cell_type": "code",
   "execution_count": 237,
   "metadata": {},
   "outputs": [
    {
     "data": {
      "text/plain": [
       "['Pink',\n",
       " 'Floyd',\n",
       " 'рус',\n",
       " 'Пинк',\n",
       " 'Флойд',\n",
       " 'британская',\n",
       " 'рок-группа',\n",
       " 'знаменитая',\n",
       " 'своими',\n",
       " 'философскими',\n",
       " 'текстами',\n",
       " 'акустическими',\n",
       " 'экспериментами',\n",
       " 'новшествами',\n",
       " 'оформлении',\n",
       " 'альбомов',\n",
       " 'грандиозными',\n",
       " 'шоу',\n",
       " 'Является',\n",
       " 'одной',\n",
       " 'из',\n",
       " 'наиболее',\n",
       " 'влиятельных',\n",
       " 'успешных',\n",
       " 'групп',\n",
       " 'рок-музыке',\n",
       " '74,5',\n",
       " 'млн',\n",
       " 'проданных',\n",
       " 'альбомов',\n",
       " 'США',\n",
       " 'седьмое',\n",
       " 'место',\n",
       " 'мире',\n",
       " 'же',\n",
       " 'было',\n",
       " 'продано',\n",
       " 'около',\n",
       " '300',\n",
       " 'млн',\n",
       " 'считая',\n",
       " 'сольных',\n",
       " 'работ',\n",
       " 'Группа',\n",
       " 'была',\n",
       " 'основана',\n",
       " '1965',\n",
       " 'году',\n",
       " 'однокурсниками',\n",
       " 'по',\n",
       " 'архитектурному',\n",
       " 'факультету',\n",
       " 'лондонского',\n",
       " 'политехнического',\n",
       " 'института',\n",
       " 'Regent',\n",
       " 'Str',\n",
       " 'Polytechnic',\n",
       " 'Ричардом',\n",
       " 'Райтом',\n",
       " 'клавишные',\n",
       " 'вокал',\n",
       " 'Роджером',\n",
       " 'Уотерсом',\n",
       " 'бас-гитара',\n",
       " 'вокал',\n",
       " 'Ником',\n",
       " 'Мейсоном',\n",
       " 'ударные',\n",
       " 'их',\n",
       " 'кембриджским',\n",
       " 'другом',\n",
       " 'Сидом',\n",
       " 'Барреттом',\n",
       " 'вокал',\n",
       " 'гитара',\n",
       " 'Первоначальное',\n",
       " 'название',\n",
       " 'The',\n",
       " 'Pink',\n",
       " 'Floyd',\n",
       " 'Sound',\n",
       " '»',\n",
       " '1966',\n",
       " 'году',\n",
       " 'последнее',\n",
       " 'слово',\n",
       " 'из',\n",
       " 'названия',\n",
       " 'было',\n",
       " 'отброшено',\n",
       " 'Лидером',\n",
       " 'группы',\n",
       " 'автором',\n",
       " 'большинства',\n",
       " 'песен',\n",
       " 'то',\n",
       " 'время',\n",
       " 'являлся',\n",
       " 'Сид',\n",
       " 'Барретт',\n",
       " 'начале',\n",
       " '1967',\n",
       " 'года',\n",
       " 'группа',\n",
       " 'выпустила',\n",
       " 'первые',\n",
       " 'синглы',\n",
       " 'августе',\n",
       " 'того',\n",
       " 'же',\n",
       " 'года',\n",
       " 'свой',\n",
       " 'первый',\n",
       " 'студийный',\n",
       " 'альбом',\n",
       " 'The',\n",
       " 'Piper',\n",
       " 'at',\n",
       " 'Gates',\n",
       " 'of',\n",
       " 'Dawn',\n",
       " 'ставший',\n",
       " 'классикой',\n",
       " 'психоделического',\n",
       " 'рока',\n",
       " '1968',\n",
       " 'году',\n",
       " 'четвёрке',\n",
       " 'присоединился',\n",
       " 'гитарист',\n",
       " 'Дэвид',\n",
       " 'Гилмор',\n",
       " 'заменил',\n",
       " 'Барретта',\n",
       " 'страдал',\n",
       " 'от',\n",
       " 'наркотической',\n",
       " 'зависимости',\n",
       " 'из-за',\n",
       " 'чего',\n",
       " 'часто',\n",
       " 'срывал',\n",
       " 'записи',\n",
       " 'концерты',\n",
       " 'После',\n",
       " 'ухода',\n",
       " 'Барретта',\n",
       " 'доминирующими',\n",
       " 'фигурами',\n",
       " 'группе',\n",
       " 'вначале',\n",
       " 'стали',\n",
       " 'бас-гитарист',\n",
       " 'Роджер',\n",
       " 'Уотерс',\n",
       " 'клавишник',\n",
       " 'Ричард',\n",
       " 'Райт',\n",
       " 'со',\n",
       " 'временем',\n",
       " 'Райт',\n",
       " 'уступил',\n",
       " 'позиции',\n",
       " 'Гилмору',\n",
       " 'период',\n",
       " '1968—1972',\n",
       " 'гг',\n",
       " 'группой',\n",
       " 'были',\n",
       " 'выпущены',\n",
       " 'шесть',\n",
       " 'долгоиграющих',\n",
       " 'альбомов',\n",
       " 'два',\n",
       " 'из',\n",
       " 'которых',\n",
       " 'содержат',\n",
       " 'музыку',\n",
       " 'фильмам',\n",
       " '1973',\n",
       " 'году',\n",
       " 'группа',\n",
       " 'выпустила',\n",
       " 'свой',\n",
       " 'самый',\n",
       " 'успешный',\n",
       " 'альбом',\n",
       " 'The',\n",
       " 'Dark',\n",
       " 'Side',\n",
       " 'of',\n",
       " 'Moon',\n",
       " 'сразу',\n",
       " 'сделавший',\n",
       " 'её',\n",
       " 'явлением',\n",
       " 'мирового',\n",
       " 'масштаба',\n",
       " 'За',\n",
       " 'ним',\n",
       " 'последовали',\n",
       " 'альбомы',\n",
       " 'Wish',\n",
       " 'You',\n",
       " 'Were',\n",
       " 'Here',\n",
       " '1975',\n",
       " 'Animals',\n",
       " '1977',\n",
       " 'ещё',\n",
       " 'больше',\n",
       " 'увеличившие',\n",
       " 'мировую',\n",
       " 'известность',\n",
       " 'группы',\n",
       " 'время',\n",
       " 'автором',\n",
       " 'текстов',\n",
       " 'почти',\n",
       " 'всех',\n",
       " 'песен',\n",
       " 'становится',\n",
       " 'Уотерс',\n",
       " 'С',\n",
       " 'каждым',\n",
       " 'новым',\n",
       " 'альбомом',\n",
       " 'он',\n",
       " 'закреплял',\n",
       " 'своё',\n",
       " 'лидерство',\n",
       " 'группе',\n",
       " 'постепенно',\n",
       " 'придя',\n",
       " 'единоначалию',\n",
       " 'Уотерс',\n",
       " 'является',\n",
       " 'автором',\n",
       " 'концепции',\n",
       " 'автором',\n",
       " 'большинства',\n",
       " 'композиций',\n",
       " 'концептуального',\n",
       " 'альбома',\n",
       " 'группы',\n",
       " 'The',\n",
       " 'Wall',\n",
       " '1979',\n",
       " 'Такое',\n",
       " 'положение',\n",
       " 'дел',\n",
       " 'вызывало',\n",
       " 'недовольство',\n",
       " 'со',\n",
       " 'стороны',\n",
       " 'других',\n",
       " 'участников',\n",
       " 'группы',\n",
       " 'что',\n",
       " 'повлекло',\n",
       " 'уход',\n",
       " 'из',\n",
       " 'группы',\n",
       " 'Райта',\n",
       " 'Последней',\n",
       " 'работой',\n",
       " 'группы',\n",
       " 'составе',\n",
       " 'Гилмор-Мейсон-Уотерс',\n",
       " 'стал',\n",
       " 'альбом',\n",
       " 'The',\n",
       " 'Final',\n",
       " 'Cut',\n",
       " 'выпущенный',\n",
       " 'марте',\n",
       " '1983',\n",
       " 'года',\n",
       " 'После',\n",
       " 'этого',\n",
       " 'группа',\n",
       " 'Pink',\n",
       " 'Floyd',\n",
       " 'прекратила',\n",
       " 'активную',\n",
       " 'работу',\n",
       " 'её',\n",
       " 'участники',\n",
       " 'занялись',\n",
       " 'своими',\n",
       " 'сольными',\n",
       " 'проектами',\n",
       " 'сотрудничеством',\n",
       " 'другими',\n",
       " 'музыкантами',\n",
       " '1986',\n",
       " 'году',\n",
       " 'после',\n",
       " 'череды',\n",
       " 'судебных',\n",
       " 'разбирательств',\n",
       " 'Гилмору',\n",
       " 'удалось',\n",
       " 'возродить',\n",
       " 'Pink',\n",
       " 'Floyd',\n",
       " 'сначала',\n",
       " 'составе',\n",
       " 'Гилмор-Мейсон',\n",
       " 'затем',\n",
       " 'ним',\n",
       " 'присоединился',\n",
       " 'Райт',\n",
       " '1987',\n",
       " 'году',\n",
       " 'был',\n",
       " 'выпущен',\n",
       " 'альбом',\n",
       " 'A',\n",
       " 'Momentary',\n",
       " 'Lapse',\n",
       " 'of',\n",
       " 'Reason',\n",
       " 'автором',\n",
       " 'большинства',\n",
       " 'композиций',\n",
       " 'которого',\n",
       " 'стал',\n",
       " 'Гилмор',\n",
       " 'После',\n",
       " 'записи',\n",
       " 'альбома',\n",
       " 'группа',\n",
       " 'отправилась',\n",
       " 'мировое',\n",
       " 'турне',\n",
       " 'по',\n",
       " 'итогам',\n",
       " 'которого',\n",
       " 'был',\n",
       " 'выпущен',\n",
       " 'двойной',\n",
       " 'концертный',\n",
       " 'альбом',\n",
       " 'Delicate',\n",
       " 'Sound',\n",
       " 'of',\n",
       " 'Thunder',\n",
       " '1994',\n",
       " 'году',\n",
       " 'этим',\n",
       " 'же',\n",
       " 'составом',\n",
       " 'был',\n",
       " 'выпущен',\n",
       " 'альбом',\n",
       " 'The',\n",
       " 'Division',\n",
       " 'Bell',\n",
       " 'за',\n",
       " 'которым',\n",
       " 'последовал',\n",
       " 'концертный',\n",
       " 'тур',\n",
       " 'новый',\n",
       " 'большой',\n",
       " 'перерыв',\n",
       " 'творчестве',\n",
       " 'группы',\n",
       " 'Этот',\n",
       " 'период',\n",
       " 'творчества',\n",
       " 'группы',\n",
       " 'был',\n",
       " 'неоднозначно',\n",
       " 'воспринят',\n",
       " 'музыкальными',\n",
       " 'критиками',\n",
       " 'поклонниками',\n",
       " 'классического',\n",
       " '»',\n",
       " 'Pink',\n",
       " 'Floyd',\n",
       " 'сентябре',\n",
       " '2008',\n",
       " 'года',\n",
       " 'скончался',\n",
       " 'Ричард',\n",
       " 'Райт',\n",
       " '2014',\n",
       " 'году',\n",
       " 'вышел',\n",
       " 'последний',\n",
       " 'студийный',\n",
       " 'альбом',\n",
       " 'группы',\n",
       " 'The',\n",
       " 'Endless',\n",
       " 'River',\n",
       " 'основанный',\n",
       " 'студийных',\n",
       " 'записях',\n",
       " '1993—1994',\n",
       " 'годов',\n",
       " 'сделанных',\n",
       " 'при',\n",
       " 'участии',\n",
       " 'Райта',\n",
       " 'После',\n",
       " 'этого',\n",
       " 'группа',\n",
       " 'Pink',\n",
       " 'Floyd',\n",
       " 'официально',\n",
       " 'прекратила',\n",
       " 'своё',\n",
       " 'существование']"
      ]
     },
     "execution_count": 237,
     "metadata": {},
     "output_type": "execute_result"
    }
   ],
   "source": [
    "Pink_words"
   ]
  },
  {
   "cell_type": "code",
   "execution_count": 238,
   "metadata": {},
   "outputs": [
    {
     "name": "stdout",
     "output_type": "stream",
     "text": [
      "[('группы', 9), ('году', 8), ('The', 7), ('альбом', 7), ('Pink', 6), ('Floyd', 6), ('автором', 5), ('группа', 5), ('из', 4), ('года', 4), ('of', 4), ('После', 4), ('Райт', 4), ('был', 4), ('альбомов', 3), ('же', 3), ('вокал', 3), ('большинства', 3), ('Уотерс', 3), ('выпущен', 3), ('своими', 2), ('млн', 2), ('было', 2), ('по', 2), ('Sound', 2), ('»', 2), ('песен', 2), ('время', 2), ('выпустила', 2), ('свой', 2), ('студийный', 2), ('присоединился', 2), ('Гилмор', 2), ('Барретта', 2), ('записи', 2), ('группе', 2), ('Ричард', 2), ('со', 2), ('Гилмору', 2), ('период', 2), ('её', 2), ('ним', 2), ('своё', 2), ('композиций', 2), ('альбома', 2), ('Райта', 2), ('составе', 2), ('стал', 2), ('этого', 2), ('прекратила', 2)]\n"
     ]
    }
   ],
   "source": [
    "counter = collections.Counter(Pink_words) \n",
    "print(counter.most_common(50))"
   ]
  },
  {
   "cell_type": "code",
   "execution_count": 239,
   "metadata": {},
   "outputs": [],
   "source": [
    "Michael_summery = wikipedia.summary(\"Michael Jackson\")"
   ]
  },
  {
   "cell_type": "code",
   "execution_count": 240,
   "metadata": {},
   "outputs": [],
   "source": [
    "words_Michael_summery = nltk.word_tokenize(Michael_summery)"
   ]
  },
  {
   "cell_type": "code",
   "execution_count": 241,
   "metadata": {},
   "outputs": [],
   "source": [
    "Michael_words=[] \n",
    "for word in words_Michael_summery: \n",
    "    if word not in badwords:\n",
    "        Michael_words.append(word)"
   ]
  },
  {
   "cell_type": "code",
   "execution_count": 242,
   "metadata": {
    "scrolled": true
   },
   "outputs": [
    {
     "name": "stdout",
     "output_type": "stream",
     "text": [
      "[('Майкл', 2), ('25', 2), ('поп-музыки', 2), ('»', 2), ('премий', 2), ('Джо́зеф', 1), ('Дже́ксон', 1), ('англ', 1), ('Michael', 1), ('Joseph', 1), ('Jackson', 1), (';', 1), ('29', 1), ('августа', 1), ('1958', 1), ('Гэри', 1), ('июня', 1), ('2009', 1), ('Лос-Анджелес', 1), ('американский', 1), ('певец', 1), ('автор', 1), ('песен', 1), ('музыкальный', 1), ('продюсер', 1), ('аранжировщик', 1), ('танцор', 1), ('хореограф', 1), ('актёр', 1), ('сценарист', 1), ('филантроп', 1), ('предприниматель', 1), ('Самый', 1), ('успешный', 1), ('исполнитель', 1), ('истории', 1), ('известен', 1), ('Король', 1), ('обладатель', 1), ('15', 1), ('Грэмми', 1), ('сотен', 1), ('других', 1), ('раз', 1), ('занесён', 1), ('Книгу', 1), ('рекордов', 1), ('Гиннесса', 1), ('Количество', 1), ('проданных', 1)]\n"
     ]
    }
   ],
   "source": [
    "counter = collections.Counter(Michael_words) \n",
    "print(counter.most_common(50))"
   ]
  },
  {
   "cell_type": "code",
   "execution_count": 243,
   "metadata": {},
   "outputs": [],
   "source": [
    "Lara_summery = wikipedia.summary(\"Lara Fabian\")"
   ]
  },
  {
   "cell_type": "code",
   "execution_count": 244,
   "metadata": {},
   "outputs": [],
   "source": [
    "words_Lara_summery = nltk.word_tokenize(Lara_summery)"
   ]
  },
  {
   "cell_type": "code",
   "execution_count": 245,
   "metadata": {},
   "outputs": [],
   "source": [
    "Lara_words=[] \n",
    "for word in words_Lara_summery: \n",
    "    if word not in badwords:\n",
    "        Lara_words.append(word)"
   ]
  },
  {
   "cell_type": "code",
   "execution_count": 246,
   "metadata": {},
   "outputs": [
    {
     "name": "stdout",
     "output_type": "stream",
     "text": [
      "[('Лара́', 1), ('Фабиа́н', 1), ('фр', 1), ('Lara', 1), ('Fabian', 1), ('настоящая', 1), ('фамилия', 1), ('Крока́рт', 1), ('нидерл', 1), ('Crokaert', 1), ('Фабиан', 1), ('модифицированное', 1), ('написание', 1), ('имени', 1), ('дяди', 1), ('Фабиано', 1), (';', 1), ('род', 1), ('9', 1), ('января', 1), ('1970', 1), ('Эттербек', 1), ('Бельгия', 1), ('франкоязычная', 1), ('певица', 1), ('бельгийско-итальянского', 1), ('происхождения', 1), ('гражданка', 1), ('Канады', 1), ('Исполняет', 1), ('песни', 1), ('французском', 1), ('английском', 1), ('итальянском', 1), ('испанском', 1), ('русском', 1), ('других', 1), ('языках', 1), ('Представительница', 1), ('Люксембурга', 1), ('Евровидении-1988', 1), ('Признается', 1), ('эстрадно-вокальной', 1), ('звездой', 1), ('Европы', 1), ('имеющей', 1), ('эталонное', 1), ('лирическое', 1), ('сопрано', 1)]\n"
     ]
    }
   ],
   "source": [
    "counter = collections.Counter(Lara_words) \n",
    "print(counter.most_common(50))"
   ]
  },
  {
   "cell_type": "markdown",
   "metadata": {},
   "source": [
    "# Q3"
   ]
  },
  {
   "cell_type": "code",
   "execution_count": 196,
   "metadata": {},
   "outputs": [],
   "source": [
    "class Human:\n",
    "    \"\"\"The following class has attributes such as name, surname,profession, and salary.\n",
    "    Besides it has 1 method info\"\"\"\n",
    "    nationality = \"Armenian\"\n",
    "    def __init__(self,name,surname,profession,salary):\n",
    "        self.name = name\n",
    "        self.surname = surname\n",
    "        self.profession= profession\n",
    "        self.salary = salary        \n",
    "    def info(self):\n",
    "        print(\"Hi I am\", self.name, self.surname,\". I am a\", self.profession,\"and I earn\", self.salary,\"a month.\")\n",
    "        \n",
    "    "
   ]
  },
  {
   "cell_type": "code",
   "execution_count": 197,
   "metadata": {},
   "outputs": [],
   "source": [
    "girl = Human(name=\"Anna\", surname = \"Ohanyan\", profession = \"data scientist\", salary = '1500000')"
   ]
  },
  {
   "cell_type": "code",
   "execution_count": 198,
   "metadata": {},
   "outputs": [
    {
     "name": "stdout",
     "output_type": "stream",
     "text": [
      "Hi I am Anna Ohanyan . I am a data scientist and I earn 1500000 a month.\n"
     ]
    }
   ],
   "source": [
    "girl.info()"
   ]
  },
  {
   "cell_type": "code",
   "execution_count": 199,
   "metadata": {},
   "outputs": [],
   "source": [
    "man = Human(name=\"Poxos\", surname = \"Petrosyan\", profession = \"Programmer\", salary = '3000000')"
   ]
  },
  {
   "cell_type": "code",
   "execution_count": 200,
   "metadata": {},
   "outputs": [
    {
     "name": "stdout",
     "output_type": "stream",
     "text": [
      "Hi I am Poxos Petrosyan . I am a Programmer and I earn 3000000 a month.\n"
     ]
    }
   ],
   "source": [
    "man.info()"
   ]
  },
  {
   "cell_type": "code",
   "execution_count": null,
   "metadata": {},
   "outputs": [],
   "source": []
  },
  {
   "cell_type": "code",
   "execution_count": null,
   "metadata": {},
   "outputs": [],
   "source": []
  }
 ],
 "metadata": {
  "kernelspec": {
   "display_name": "Python 3",
   "language": "python",
   "name": "python3"
  },
  "language_info": {
   "codemirror_mode": {
    "name": "ipython",
    "version": 3
   },
   "file_extension": ".py",
   "mimetype": "text/x-python",
   "name": "python",
   "nbconvert_exporter": "python",
   "pygments_lexer": "ipython3",
   "version": "3.7.3"
  }
 },
 "nbformat": 4,
 "nbformat_minor": 2
}
